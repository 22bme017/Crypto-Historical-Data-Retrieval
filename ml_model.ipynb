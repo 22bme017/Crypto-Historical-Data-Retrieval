{
 "cells": [
  {
   "cell_type": "code",
   "execution_count": 2,
   "metadata": {},
   "outputs": [],
   "source": [
    "import pandas as pd\n",
    "from fetch_crypto_data import fetch_crypto_data, calculate_metrics\n",
    "from sklearn.model_selection import train_test_split\n",
    "from sklearn.ensemble import RandomForestRegressor\n",
    "from sklearn.metrics import mean_squared_error, mean_absolute_error\n",
    "from sklearn.preprocessing import LabelEncoder\n"
   ]
  },
  {
   "cell_type": "code",
   "execution_count": null,
   "metadata": {},
   "outputs": [],
   "source": [
    "# Set parameters\n",
    "crypto_pair = \"ETHUSDT\"  # or any other pair\n",
    "start_date = \"2000-10-01\"  # specify the starting date\n",
    "\n",
    "# Step 1: Fetch historical crypto data\n",
    "data = fetch_crypto_data(crypto_pair, start_date)\n",
    "\n",
    "# Step 2: Calculate trading metrics\n",
    "# Replace variable1 and variable2 with integers according to your needs (e.g., 7 and 5)\n",
    "variable1 = 5\n",
    "variable2 = 7\n",
    "data_with_metrics = calculate_metrics(data, variable1, variable2)\n"
   ]
  },
  {
   "cell_type": "code",
   "execution_count": 10,
   "metadata": {},
   "outputs": [],
   "source": [
    "# Check if the 'Pair' column does not exist in the DataFrame 'data_with_metrics'\n",
    "if 'Pair' not in data_with_metrics.columns:\n",
    "    # If 'Pair' column is missing, create it and assign the value of 'crypto_pair'\n",
    "    data_with_metrics['Pair'] = crypto_pair\n",
    "\n",
    "# Initialize a LabelEncoder to convert categorical text data into numerical format\n",
    "label_encoder = LabelEncoder()\n",
    "\n",
    "# Fit the LabelEncoder on the 'Pair' column and transform the values into encoded labels\n",
    "# The encoded labels are stored in a new column 'Pair_encoded'\n",
    "data_with_metrics['Pair_encoded'] = label_encoder.fit_transform(data_with_metrics['Pair'])"
   ]
  },
  {
   "cell_type": "code",
   "execution_count": 5,
   "metadata": {},
   "outputs": [],
   "source": [
    "def train_model(data, variable1, variable2):\n",
    "    \"\"\"\n",
    "    Trains a machine learning model to predict future price percentage differences, with\n",
    "    an additional feature for the cryptocurrency pair.\n",
    "\n",
    "    Parameters:\n",
    "    - data (pd.DataFrame): DataFrame containing features and target variables.\n",
    "    - variable1 (int): Look-back period for historical data.\n",
    "    - variable2 (int): Look-forward period for future data.\n",
    "\n",
    "    Returns:\n",
    "    - model: Trained RandomForestRegressor model.\n",
    "    - mse: Mean Squared Error of the model on the test set.\n",
    "    - mae: Mean Absolute Error of the model on the test set.\n",
    "    \"\"\"\n",
    "    # Dynamically define feature and target column names based on variable1 and variable2\n",
    "    feature_columns = [\n",
    "        f'Days_Since_High_Last_{variable1}_Days',\n",
    "        f'%_Diff_From_High_Last_{variable1}_Days',\n",
    "        f'Days_Since_Low_Last_{variable1}_Days',\n",
    "        f'%_Diff_From_Low_Last_{variable1}_Days',\n",
    "        'Pair_encoded'\n",
    "    ]\n",
    "    target_columns = [\n",
    "        f'%_Diff_From_High_Next_{variable2}_Days',\n",
    "        f'%_Diff_From_Low_Next_{variable2}_Days'\n",
    "    ]\n",
    "\n",
    "    # Drop rows with NaN values in either features or targets\n",
    "    combined_data = pd.concat([data[feature_columns], data[target_columns]], axis=1).dropna()\n",
    "    features = combined_data[feature_columns]\n",
    "    targets = combined_data[target_columns]\n",
    "\n",
    "    # Split data into training and testing sets\n",
    "    X_train, X_test, y_train, y_test = train_test_split(features, targets, test_size=0.2, random_state=42)\n",
    "    \n",
    "    # Initialize and train the model\n",
    "    model = RandomForestRegressor(random_state=42)\n",
    "    model.fit(X_train, y_train)\n",
    "\n",
    "    # Predict on the test set and evaluate model performance\n",
    "    predictions = model.predict(X_test)\n",
    "    mse = mean_squared_error(y_test, predictions)\n",
    "    mae = mean_absolute_error(y_test, predictions)\n",
    "\n",
    "    print(f\"Model Mean Squared Error (MSE): {mse}\")\n",
    "    print(f\"Model Mean Absolute Error (MAE): {mae}\")\n",
    "\n",
    "    return model, mse, mae\n",
    "\n",
    "\n"
   ]
  },
  {
   "cell_type": "code",
   "execution_count": 8,
   "metadata": {},
   "outputs": [
    {
     "name": "stdout",
     "output_type": "stream",
     "text": [
      "Model Mean Squared Error (MSE): 2.7771032681755816\n",
      "Model Mean Absolute Error (MAE): 0.8187734291394608\n"
     ]
    }
   ],
   "source": [
    "# Train the model\n",
    "model, mse, mae = train_model(data_with_metrics, variable1, variable2)"
   ]
  },
  {
   "cell_type": "code",
   "execution_count": 11,
   "metadata": {},
   "outputs": [
    {
     "name": "stdout",
     "output_type": "stream",
     "text": [
      "Predicted % Diff from Future High: -32.908452076072734\n",
      "Predicted % Diff from Future Low: 52.569752759960835\n"
     ]
    }
   ],
   "source": [
    "def predict_outcomes(model, days_since_high, diff_from_high, days_since_low, diff_from_low, pair_encoded):\n",
    "    \"\"\"\n",
    "    Predicts future price differences using the trained model.\n",
    "    \"\"\"\n",
    "    # Create a DataFrame with the input features for prediction\n",
    "    input_data = pd.DataFrame([[days_since_high, diff_from_high, days_since_low, diff_from_low, pair_encoded]],\n",
    "                              columns=[f'Days_Since_High_Last_{variable1}_Days', \n",
    "                                       f'%_Diff_From_High_Last_{variable1}_Days',\n",
    "                                       f'Days_Since_Low_Last_{variable1}_Days', \n",
    "                                       f'%_Diff_From_Low_Last_{variable1}_Days',\n",
    "                                       'Pair_encoded'])\n",
    "    \n",
    "    # Use the trained model to make a prediction based on the input data\n",
    "    prediction = model.predict(input_data)\n",
    "\n",
    "    # Extract the predicted differences from the model's output\n",
    "    predicted_high_diff, predicted_low_diff = prediction[0]\n",
    "    \n",
    "    # Print the predicted percentage differences from future high and low\n",
    "    print(f\"Predicted % Diff from Future High: {predicted_high_diff}\")\n",
    "    print(f\"Predicted % Diff from Future Low: {predicted_low_diff}\")\n",
    "    \n",
    "    # Return the predicted differences for further use\n",
    "    return predicted_high_diff, predicted_low_diff\n",
    "\n",
    "# Example prediction values for testing the prediction function\n",
    "days_since_high = 3  # Number of days since the last high price\n",
    "diff_from_high = 4.2  # Percentage difference from the last high price\n",
    "days_since_low = 2  # Number of days since the last low price\n",
    "diff_from_low = -1.5  # Percentage difference from the last low price\n",
    "pair_encoded = label_encoder.transform([crypto_pair])[0]  # Encode the crypto pair using the LabelEncoder\n",
    "\n",
    "# Call the predict_outcomes function with the example values to get predictions\n",
    "predicted_high, predicted_low = predict_outcomes(\n",
    "    model, \n",
    "    days_since_high, \n",
    "    diff_from_high, \n",
    "    days_since_low, \n",
    "    diff_from_low,\n",
    "    pair_encoded\n",
    ")"
   ]
  }
 ],
 "metadata": {
  "kernelspec": {
   "display_name": "Python 3",
   "language": "python",
   "name": "python3"
  },
  "language_info": {
   "codemirror_mode": {
    "name": "ipython",
    "version": 3
   },
   "file_extension": ".py",
   "mimetype": "text/x-python",
   "name": "python",
   "nbconvert_exporter": "python",
   "pygments_lexer": "ipython3",
   "version": "3.11.5"
  }
 },
 "nbformat": 4,
 "nbformat_minor": 2
}
